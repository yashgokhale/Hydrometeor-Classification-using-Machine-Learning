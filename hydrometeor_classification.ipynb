{
 "cells": [
  {
   "cell_type": "markdown",
   "metadata": {},
   "source": [
    "## Hydrometeor Classification in Radars using Machine Learning"
   ]
  },
  {
   "cell_type": "markdown",
   "metadata": {},
   "source": [
    "### Dataset features:\n",
    "1. Independent variables: 7\n",
    "2. Dependent variable: 11 (categorical)\n",
    "3. Size of data: 3,159,754 (3.2 million data points)\n",
    "4. 10% split into test data<br>\n",
    "Baseline classification model accuracy is to be tested using standard classification algorithms"
   ]
  },
  {
   "cell_type": "code",
   "execution_count": 9,
   "metadata": {},
   "outputs": [],
   "source": [
    "import os\n",
    "from netCDF4 import Dataset\n",
    "import numpy as np\n",
    "import pandas as pd\n",
    "os.chdir('C:/Users/yashg/OneDrive/Desktop/CMU/Project/December/Matthews_Radar_files')"
   ]
  },
  {
   "cell_type": "code",
   "execution_count": 10,
   "metadata": {},
   "outputs": [],
   "source": [
    "import glob\n",
    "master=pd.DataFrame()\n",
    "for file in glob.glob(\"*.cdf\"):\n",
    "    data=Dataset(file)\n",
    "    ref=np.ma.filled(data['DZ'][:].flatten())\n",
    "    u=np.ma.filled(data['U'][:].flatten())\n",
    "    v=np.ma.filled(data['V'][:].flatten())\n",
    "    con=np.ma.filled(data['Con'][:].flatten())\n",
    "    Vor=np.ma.filled(data['Vor'][:].flatten())\n",
    "    Wvar=np.ma.filled(data['Wvar'][:].flatten())\n",
    "    vt=np.ma.filled(data['VT'][:].flatten())\n",
    "    hid=np.ma.filled(data['HID'][:].flatten())\n",
    "    cols=['Reflectivity','U','V','Con','Vor','Wvar','HID','VT']\n",
    "    var=[ref,u,v,con,Vor,Wvar,hid,vt]\n",
    "    d={}\n",
    "    for i,kk in enumerate(cols):\n",
    "        d.update({kk:var[i]})\n",
    "    df=pd.DataFrame(d)    \n",
    "    master=master.append(df,ignore_index = True)"
   ]
  },
  {
   "cell_type": "code",
   "execution_count": 11,
   "metadata": {},
   "outputs": [],
   "source": [
    "badval=data['DZ'].bad_value"
   ]
  },
  {
   "cell_type": "code",
   "execution_count": 12,
   "metadata": {},
   "outputs": [],
   "source": [
    "df=master\n",
    "col=df.columns\n",
    "for m in col:\n",
    "    df=df[df[m]!=badval]"
   ]
  },
  {
   "cell_type": "code",
   "execution_count": 15,
   "metadata": {},
   "outputs": [],
   "source": [
    "df.to_csv('C:/Users/yashg/Documents/Skill Building/full_dataset.csv')"
   ]
  },
  {
   "cell_type": "markdown",
   "metadata": {},
   "source": [
    "### Importing pre-existing dataset"
   ]
  },
  {
   "cell_type": "code",
   "execution_count": 32,
   "metadata": {},
   "outputs": [],
   "source": [
    "df=pd.read_csv('C:/Users/yashg/Documents/Skill Building/full_dataset.csv')"
   ]
  },
  {
   "cell_type": "code",
   "execution_count": 33,
   "metadata": {},
   "outputs": [],
   "source": [
    "X=df.iloc[:,:-1]\n",
    "y=df.iloc[:,-1].astype('int32')"
   ]
  },
  {
   "cell_type": "code",
   "execution_count": 34,
   "metadata": {},
   "outputs": [],
   "source": [
    "from sklearn.model_selection import train_test_split\n",
    "X_train, X_test, y_train, y_test = train_test_split(X, y, test_size=0.1, random_state=42)"
   ]
  },
  {
   "cell_type": "markdown",
   "metadata": {},
   "source": [
    "## Decision Tree Classifier"
   ]
  },
  {
   "cell_type": "code",
   "execution_count": 35,
   "metadata": {},
   "outputs": [],
   "source": [
    "from sklearn import tree\n",
    "\n",
    "model = tree.DecisionTreeClassifier()\n",
    "model.fit(X_train, y_train)\n",
    "\n",
    "y_predict = model.predict(X_test)\n",
    "y_tr=model.predict(X_train)\n",
    "from sklearn.metrics import accuracy_score\n",
    "\n",
    "dt_acc=accuracy_score(y_test, y_predict)\n",
    "dt_train=accuracy_score(y_train, y_tr)"
   ]
  },
  {
   "cell_type": "markdown",
   "metadata": {},
   "source": [
    "## KNN Classifier"
   ]
  },
  {
   "cell_type": "code",
   "execution_count": 36,
   "metadata": {},
   "outputs": [],
   "source": [
    "from sklearn.neighbors import KNeighborsClassifier\n",
    "\n",
    "model = KNeighborsClassifier(n_neighbors=3)\n",
    "model.fit(X_train,y_train)\n",
    "y_predict= model.predict(X_test)\n",
    "y_tr=model.predict(X_train)\n",
    "from sklearn.metrics import accuracy_score\n",
    "knn_acc=accuracy_score(y_test, y_predict)\n",
    "knn_train=accuracy_score(y_train, y_tr)"
   ]
  },
  {
   "cell_type": "markdown",
   "metadata": {},
   "source": [
    "## Naive Bayes"
   ]
  },
  {
   "cell_type": "code",
   "execution_count": 37,
   "metadata": {},
   "outputs": [],
   "source": [
    "from sklearn.naive_bayes import GaussianNB \n",
    "gnb = GaussianNB().fit(X_train, y_train) \n",
    "gnb_predictions = gnb.predict(X_test) \n",
    "gnb_tr=gnb.predict(X_train) \n",
    "# accuracy on X_test \n",
    "gnb_acc= gnb.score(X_test, y_test)\n",
    "gnb_tr= gnb.score(X_train, y_train)"
   ]
  },
  {
   "cell_type": "markdown",
   "metadata": {},
   "source": [
    "## Random Guessing"
   ]
  },
  {
   "cell_type": "code",
   "execution_count": 38,
   "metadata": {},
   "outputs": [],
   "source": [
    "import random\n",
    "random.seed(42)\n",
    "y_pred=np.random.randint(-1,10,len(y_test))\n",
    "y_tr=np.random.randint(-1,10,len(y_train))\n",
    "r_acc=accuracy_score(y_test,y_pred)\n",
    "r_tr=accuracy_score(y_train,y_tr)"
   ]
  },
  {
   "cell_type": "markdown",
   "metadata": {},
   "source": [
    "## Comparing Performance"
   ]
  },
  {
   "cell_type": "code",
   "execution_count": 40,
   "metadata": {},
   "outputs": [
    {
     "data": {
      "image/png": "[encoded data removed]",
      "text/plain": [
       "<Figure size 432x288 with 1 Axes>"
      ]
     },
     "metadata": {
      "needs_background": "light"
     },
     "output_type": "display_data"
    }
   ],
   "source": [
    "classifiers=['Random','GNB','DT','KNN']\n",
    "acc=[r_acc,gnb_acc,dt_acc,knn_acc]\n",
    "acc_tr=[r_tr,gnb_tr,dt_train,knn_train]\n",
    "import matplotlib.pyplot as plt\n",
    "plt.plot(classifiers,acc_tr,'o--',label='Train')\n",
    "plt.plot(classifiers,acc,'o-',label='Test')\n",
    "plt.legend()\n",
    "plt.xlabel('Classifier')\n",
    "plt.ylabel('Accuracy')\n",
    "plt.title('Performance of classifiers')\n",
    "plt.show()"
   ]
  },
  {
   "cell_type": "markdown",
   "metadata": {},
   "source": [
    "Performs best on a KNN as the baseline model. Forms the premise to develop a deeper neural network. <br>\n",
    "Baseline classification model has 75.8% test accuracy and 89.03% for KNN"
   ]
  }
 ],
 "metadata": {
  "kernelspec": {
   "display_name": "Python 3",
   "language": "python",
   "name": "python3"
  },
  "language_info": {
   "codemirror_mode": {
    "name": "ipython",
    "version": 3
   },
   "file_extension": ".py",
   "mimetype": "text/x-python",
   "name": "python",
   "nbconvert_exporter": "python",
   "pygments_lexer": "ipython3",
   "version": "3.7.3"
  }
 },
 "nbformat": 4,
 "nbformat_minor": 2
}
