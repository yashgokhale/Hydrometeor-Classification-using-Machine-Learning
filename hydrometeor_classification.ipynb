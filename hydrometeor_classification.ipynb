{
 "cells": [
  {
   "cell_type": "markdown",
   "metadata": {},
   "source": [
    "## Hydrometeor Classification in Radars using Machine Learning"
   ]
  },
  {
   "cell_type": "markdown",
   "metadata": {},
   "source": [
    "Set Attributes:<br>\n",
    "1. Number of features=6\n",
    "2. Number of categories=11\n",
    "3. Dataset size=263538\n",
    "4. Filtered Dataset size=110659\n",
    "5. Train-Test Split=2/3:1/3\n",
    "6. Algorithms to be tested: Random guess, Gaussian Naive Bayes, Decision Tree Learner, KNN\n",
    "<br>\n",
    "This study will form the basis to develop a deeper neural network. This is a single datafile and the larger file will have around 3 million points (Large enough data)."
   ]
  },
  {
   "cell_type": "code",
   "execution_count": 35,
   "metadata": {},
   "outputs": [],
   "source": [
    "import os\n",
    "from netCDF4 import Dataset\n",
    "import numpy as np\n",
    "import pandas as pd\n",
    "os.chdir('C:/Users/yashg/OneDrive/Desktop/CMU/Project/December/Matthews_Radar_files')"
   ]
  },
  {
   "cell_type": "code",
   "execution_count": 36,
   "metadata": {},
   "outputs": [],
   "source": [
    "f1='20110520_0612_grid_combined.cdf'\n",
    "data=Dataset(f1)"
   ]
  },
  {
   "cell_type": "code",
   "execution_count": 37,
   "metadata": {},
   "outputs": [
    {
     "data": {
      "text/plain": [
       "dict_keys(['DZ', 'U', 'V', 'Con', 'Vor', 'Wvar', 'VT', 'HID', 'CS', 'x', 'y', 'z'])"
      ]
     },
     "execution_count": 37,
     "metadata": {},
     "output_type": "execute_result"
    }
   ],
   "source": [
    "data.variables.keys()"
   ]
  },
  {
   "cell_type": "code",
   "execution_count": 38,
   "metadata": {},
   "outputs": [],
   "source": [
    "ref=np.ma.filled(data['DZ'][:].flatten())\n",
    "u=np.ma.filled(data['U'][:].flatten())\n",
    "v=np.ma.filled(data['V'][:].flatten())\n",
    "con=np.ma.filled(data['Con'][:].flatten())\n",
    "Vor=np.ma.filled(data['Vor'][:].flatten())\n",
    "Wvar=np.ma.filled(data['Wvar'][:].flatten())\n",
    "hid=np.ma.filled(data['HID'][:].flatten())\n",
    "cols=['Reflectivity','U','V','Con','Vor','Wvar','HID']\n",
    "var=[ref,u,v,con,Vor,Wvar,hid]"
   ]
  },
  {
   "cell_type": "code",
   "execution_count": 51,
   "metadata": {},
   "outputs": [
    {
     "name": "stdout",
     "output_type": "stream",
     "text": [
      "263538\n"
     ]
    }
   ],
   "source": [
    "d={}\n",
    "for i,kk in enumerate(cols):\n",
    "    d.update({kk:var[i]})\n",
    "df=pd.DataFrame(d)"
   ]
  },
  {
   "cell_type": "code",
   "execution_count": 40,
   "metadata": {},
   "outputs": [],
   "source": [
    "badval=data['DZ'].bad_value"
   ]
  },
  {
   "cell_type": "code",
   "execution_count": 52,
   "metadata": {},
   "outputs": [
    {
     "data": {
      "text/plain": [
       "110659"
      ]
     },
     "execution_count": 52,
     "metadata": {},
     "output_type": "execute_result"
    }
   ],
   "source": [
    "col=df.columns\n",
    "for m in col:\n",
    "    df=df[df[m]!=badval]"
   ]
  },
  {
   "cell_type": "code",
   "execution_count": 42,
   "metadata": {},
   "outputs": [],
   "source": [
    "X=df.iloc[:,:-1]\n",
    "y=df.iloc[:,-1]"
   ]
  },
  {
   "cell_type": "code",
   "execution_count": 43,
   "metadata": {},
   "outputs": [],
   "source": [
    "from sklearn.model_selection import train_test_split\n",
    "X_train, X_test, y_train, y_test = train_test_split(X, y, test_size=0.33, random_state=42)"
   ]
  },
  {
   "cell_type": "markdown",
   "metadata": {},
   "source": [
    "## Decision Tree Classifier"
   ]
  },
  {
   "cell_type": "code",
   "execution_count": 44,
   "metadata": {},
   "outputs": [],
   "source": [
    "from sklearn import tree\n",
    "\n",
    "model = tree.DecisionTreeClassifier()\n",
    "model.fit(X_train, y_train)\n",
    "\n",
    "y_predict = model.predict(X_test)\n",
    "y_tr=model.predict(X_train)\n",
    "from sklearn.metrics import accuracy_score\n",
    "\n",
    "dt_acc=accuracy_score(y_test, y_predict)\n",
    "dt_train=accuracy_score(y_train, y_tr)"
   ]
  },
  {
   "cell_type": "markdown",
   "metadata": {},
   "source": [
    "## KNN Classifier"
   ]
  },
  {
   "cell_type": "code",
   "execution_count": 45,
   "metadata": {},
   "outputs": [],
   "source": [
    "from sklearn.neighbors import KNeighborsClassifier\n",
    "\n",
    "model = KNeighborsClassifier(n_neighbors=3)\n",
    "model.fit(X_train,y_train)\n",
    "y_predict= model.predict(X_test)\n",
    "y_tr=model.predict(X_train)\n",
    "from sklearn.metrics import accuracy_score\n",
    "knn_acc=accuracy_score(y_test, y_predict)\n",
    "knn_train=accuracy_score(y_train, y_tr)"
   ]
  },
  {
   "cell_type": "markdown",
   "metadata": {},
   "source": [
    "## Naive Bayes"
   ]
  },
  {
   "cell_type": "code",
   "execution_count": 46,
   "metadata": {},
   "outputs": [],
   "source": [
    "from sklearn.naive_bayes import GaussianNB \n",
    "gnb = GaussianNB().fit(X_train, y_train) \n",
    "gnb_predictions = gnb.predict(X_test) \n",
    "gnb_tr=gnb.predict(X_train) \n",
    "# accuracy on X_test \n",
    "gnb_acc= gnb.score(X_test, y_test)\n",
    "gnb_tr= gnb.score(X_train, y_train)"
   ]
  },
  {
   "cell_type": "markdown",
   "metadata": {},
   "source": [
    "## Random Guessing"
   ]
  },
  {
   "cell_type": "code",
   "execution_count": 47,
   "metadata": {},
   "outputs": [],
   "source": [
    "import random\n",
    "random.seed(42)\n",
    "y_pred=np.random.randint(-1,10,len(y_test))\n",
    "y_tr=np.random.randint(-1,10,len(y_train))\n",
    "r_acc=accuracy_score(y_test,y_pred)\n",
    "r_tr=accuracy_score(y_train,y_tr)"
   ]
  },
  {
   "cell_type": "markdown",
   "metadata": {},
   "source": [
    "## Comparing Performance"
   ]
  },
  {
   "cell_type": "code",
   "execution_count": 50,
   "metadata": {},
   "outputs": [
    {
     "data": {
      "image/png": "[encoded data removed]",
      "text/plain": [
       "<Figure size 432x288 with 1 Axes>"
      ]
     },
     "metadata": {
      "needs_background": "light"
     },
     "output_type": "display_data"
    }
   ],
   "source": [
    "classifiers=['Random','GNB','DT','KNN']\n",
    "acc=[r_acc,gnb_acc,dt_acc,knn_acc]\n",
    "acc_tr=[r_tr,gnb_tr,dt_train,knn_train]\n",
    "import matplotlib.pyplot as plt\n",
    "plt.plot(classifiers,acc_tr,'o--',label='Train')\n",
    "plt.plot(classifiers,acc,'o-',label='Test')\n",
    "plt.legend()\n",
    "plt.xlabel('Classifier')\n",
    "plt.ylabel('Accuracy')\n",
    "plt.title('Performance of classifiers')\n",
    "plt.show()"
   ]
  }
 ],
 "metadata": {
  "kernelspec": {
   "display_name": "Python 3",
   "language": "python",
   "name": "python3"
  },
  "language_info": {
   "codemirror_mode": {
    "name": "ipython",
    "version": 3
   },
   "file_extension": ".py",
   "mimetype": "text/x-python",
   "name": "python",
   "nbconvert_exporter": "python",
   "pygments_lexer": "ipython3",
   "version": "3.7.3"
  }
 },
 "nbformat": 4,
 "nbformat_minor": 2
}
